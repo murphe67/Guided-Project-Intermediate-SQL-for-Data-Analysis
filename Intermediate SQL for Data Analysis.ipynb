{
 "cells": [
  {
   "cell_type": "markdown",
   "metadata": {
    "collapsed": true
   },
   "source": [
    "# Guided Project: Answering Business Questions Using SQL\n"
   ]
  },
  {
   "cell_type": "markdown",
   "metadata": {},
   "source": [
    "This is a guided project for the Dataquest Certificate:  \n",
    "Intermediate SQL for Data Analysis"
   ]
  },
  {
   "cell_type": "markdown",
   "metadata": {},
   "source": [
    "#### Database"
   ]
  },
  {
   "cell_type": "markdown",
   "metadata": {},
   "source": [
    "The database being analysed is the Chinook sample database for learning SQL, especially SQLite  \n",
    "https://www.sqlitetutorial.net/sqlite-sample-database/"
   ]
  },
  {
   "cell_type": "markdown",
   "metadata": {},
   "source": [
    "#### Connect to Database"
   ]
  },
  {
   "cell_type": "code",
   "execution_count": 1,
   "metadata": {
    "collapsed": false
   },
   "outputs": [
    {
     "data": {
      "text/plain": [
       "'Connected: None@chinook.db'"
      ]
     },
     "execution_count": 1,
     "metadata": {},
     "output_type": "execute_result"
    }
   ],
   "source": [
    "%%capture\n",
    "%load_ext sql\n",
    "%sql sqlite:///chinook.db"
   ]
  },
  {
   "cell_type": "code",
   "execution_count": 3,
   "metadata": {
    "collapsed": false
   },
   "outputs": [
    {
     "name": "stdout",
     "output_type": "stream",
     "text": [
      "Done.\n"
     ]
    },
    {
     "data": {
      "text/html": [
       "<table>\n",
       "    <tr>\n",
       "        <th>name</th>\n",
       "        <th>type</th>\n",
       "    </tr>\n",
       "    <tr>\n",
       "        <td>album</td>\n",
       "        <td>table</td>\n",
       "    </tr>\n",
       "    <tr>\n",
       "        <td>artist</td>\n",
       "        <td>table</td>\n",
       "    </tr>\n",
       "    <tr>\n",
       "        <td>customer</td>\n",
       "        <td>table</td>\n",
       "    </tr>\n",
       "    <tr>\n",
       "        <td>employee</td>\n",
       "        <td>table</td>\n",
       "    </tr>\n",
       "    <tr>\n",
       "        <td>genre</td>\n",
       "        <td>table</td>\n",
       "    </tr>\n",
       "    <tr>\n",
       "        <td>invoice</td>\n",
       "        <td>table</td>\n",
       "    </tr>\n",
       "    <tr>\n",
       "        <td>invoice_line</td>\n",
       "        <td>table</td>\n",
       "    </tr>\n",
       "    <tr>\n",
       "        <td>media_type</td>\n",
       "        <td>table</td>\n",
       "    </tr>\n",
       "    <tr>\n",
       "        <td>playlist</td>\n",
       "        <td>table</td>\n",
       "    </tr>\n",
       "    <tr>\n",
       "        <td>playlist_track</td>\n",
       "        <td>table</td>\n",
       "    </tr>\n",
       "    <tr>\n",
       "        <td>track</td>\n",
       "        <td>table</td>\n",
       "    </tr>\n",
       "</table>"
      ],
      "text/plain": [
       "[('album', 'table'),\n",
       " ('artist', 'table'),\n",
       " ('customer', 'table'),\n",
       " ('employee', 'table'),\n",
       " ('genre', 'table'),\n",
       " ('invoice', 'table'),\n",
       " ('invoice_line', 'table'),\n",
       " ('media_type', 'table'),\n",
       " ('playlist', 'table'),\n",
       " ('playlist_track', 'table'),\n",
       " ('track', 'table')]"
      ]
     },
     "execution_count": 3,
     "metadata": {},
     "output_type": "execute_result"
    }
   ],
   "source": [
    "%%sql\n",
    "SELECT\n",
    "    name,\n",
    "    type\n",
    "FROM sqlite_master\n",
    "WHERE type in ('table', 'view');"
   ]
  },
  {
   "cell_type": "markdown",
   "metadata": {},
   "source": [
    "## Select New Albums to Add to the Store"
   ]
  },
  {
   "cell_type": "markdown",
   "metadata": {},
   "source": [
    "There are four possible new albums to add to the store:  \n",
    "<u>Artist/Genre</u>    \n",
    "Regal : Hiphop  \n",
    "Red Tone : Punk   \n",
    "Meteor and the Girls : Pop  \n",
    "Slim Jim Bites : Blues  \n"
   ]
  },
  {
   "cell_type": "markdown",
   "metadata": {},
   "source": [
    "Three of these will be offered for sale. In order to decide which 3, an analysis of which genres sell best in the USA will be conducted"
   ]
  },
  {
   "cell_type": "markdown",
   "metadata": {},
   "source": [
    "### Write a query that returns for each genre:  \n",
    "#### absolute sales  \n",
    "#### sales percentage"
   ]
  },
  {
   "cell_type": "code",
   "execution_count": 27,
   "metadata": {
    "collapsed": false
   },
   "outputs": [
    {
     "name": "stdout",
     "output_type": "stream",
     "text": [
      "Done.\n"
     ]
    },
    {
     "data": {
      "text/html": [
       "<table>\n",
       "    <tr>\n",
       "        <th>genre_name</th>\n",
       "        <th>tracks_sold</th>\n",
       "        <th>sold_percentage</th>\n",
       "    </tr>\n",
       "    <tr>\n",
       "        <td>Rock</td>\n",
       "        <td>2635</td>\n",
       "        <td>55.3920538154299</td>\n",
       "    </tr>\n",
       "    <tr>\n",
       "        <td>Metal</td>\n",
       "        <td>619</td>\n",
       "        <td>13.012402774858103</td>\n",
       "    </tr>\n",
       "    <tr>\n",
       "        <td>Alternative &amp; Punk</td>\n",
       "        <td>492</td>\n",
       "        <td>10.342652932520496</td>\n",
       "    </tr>\n",
       "    <tr>\n",
       "        <td>Latin</td>\n",
       "        <td>167</td>\n",
       "        <td>3.510615934412445</td>\n",
       "    </tr>\n",
       "    <tr>\n",
       "        <td>R&amp;B/Soul</td>\n",
       "        <td>159</td>\n",
       "        <td>3.3424427159974774</td>\n",
       "    </tr>\n",
       "    <tr>\n",
       "        <td>Blues</td>\n",
       "        <td>124</td>\n",
       "        <td>2.606684885431995</td>\n",
       "    </tr>\n",
       "    <tr>\n",
       "        <td>Jazz</td>\n",
       "        <td>121</td>\n",
       "        <td>2.543619928526382</td>\n",
       "    </tr>\n",
       "    <tr>\n",
       "        <td>Alternative</td>\n",
       "        <td>117</td>\n",
       "        <td>2.4595333193188984</td>\n",
       "    </tr>\n",
       "    <tr>\n",
       "        <td>Easy Listening</td>\n",
       "        <td>74</td>\n",
       "        <td>1.5556022703384484</td>\n",
       "    </tr>\n",
       "    <tr>\n",
       "        <td>Pop</td>\n",
       "        <td>63</td>\n",
       "        <td>1.3243640950178683</td>\n",
       "    </tr>\n",
       "    <tr>\n",
       "        <td>Electronica/Dance</td>\n",
       "        <td>55</td>\n",
       "        <td>1.156190876602901</td>\n",
       "    </tr>\n",
       "    <tr>\n",
       "        <td>Classical</td>\n",
       "        <td>47</td>\n",
       "        <td>0.9880176581879335</td>\n",
       "    </tr>\n",
       "    <tr>\n",
       "        <td>Reggae</td>\n",
       "        <td>35</td>\n",
       "        <td>0.7357578305654824</td>\n",
       "    </tr>\n",
       "    <tr>\n",
       "        <td>Hip Hop/Rap</td>\n",
       "        <td>33</td>\n",
       "        <td>0.6937145259617407</td>\n",
       "    </tr>\n",
       "    <tr>\n",
       "        <td>Heavy Metal</td>\n",
       "        <td>8</td>\n",
       "        <td>0.16817321841496743</td>\n",
       "    </tr>\n",
       "    <tr>\n",
       "        <td>Soundtrack</td>\n",
       "        <td>5</td>\n",
       "        <td>0.10510826150935462</td>\n",
       "    </tr>\n",
       "    <tr>\n",
       "        <td>TV Shows</td>\n",
       "        <td>2</td>\n",
       "        <td>0.04204330460374186</td>\n",
       "    </tr>\n",
       "    <tr>\n",
       "        <td>Drama</td>\n",
       "        <td>1</td>\n",
       "        <td>0.02102165230187093</td>\n",
       "    </tr>\n",
       "    <tr>\n",
       "        <td>Bossa Nova</td>\n",
       "        <td>None</td>\n",
       "        <td>None</td>\n",
       "    </tr>\n",
       "    <tr>\n",
       "        <td>Comedy</td>\n",
       "        <td>None</td>\n",
       "        <td>None</td>\n",
       "    </tr>\n",
       "    <tr>\n",
       "        <td>Opera</td>\n",
       "        <td>None</td>\n",
       "        <td>None</td>\n",
       "    </tr>\n",
       "    <tr>\n",
       "        <td>Rock And Roll</td>\n",
       "        <td>None</td>\n",
       "        <td>None</td>\n",
       "    </tr>\n",
       "    <tr>\n",
       "        <td>Sci Fi &amp; Fantasy</td>\n",
       "        <td>None</td>\n",
       "        <td>None</td>\n",
       "    </tr>\n",
       "    <tr>\n",
       "        <td>Science Fiction</td>\n",
       "        <td>None</td>\n",
       "        <td>None</td>\n",
       "    </tr>\n",
       "    <tr>\n",
       "        <td>World</td>\n",
       "        <td>None</td>\n",
       "        <td>None</td>\n",
       "    </tr>\n",
       "</table>"
      ],
      "text/plain": [
       "[('Rock', 2635, 55.3920538154299),\n",
       " ('Metal', 619, 13.012402774858103),\n",
       " ('Alternative & Punk', 492, 10.342652932520496),\n",
       " ('Latin', 167, 3.510615934412445),\n",
       " ('R&B/Soul', 159, 3.3424427159974774),\n",
       " ('Blues', 124, 2.606684885431995),\n",
       " ('Jazz', 121, 2.543619928526382),\n",
       " ('Alternative', 117, 2.4595333193188984),\n",
       " ('Easy Listening', 74, 1.5556022703384484),\n",
       " ('Pop', 63, 1.3243640950178683),\n",
       " ('Electronica/Dance', 55, 1.156190876602901),\n",
       " ('Classical', 47, 0.9880176581879335),\n",
       " ('Reggae', 35, 0.7357578305654824),\n",
       " ('Hip Hop/Rap', 33, 0.6937145259617407),\n",
       " ('Heavy Metal', 8, 0.16817321841496743),\n",
       " ('Soundtrack', 5, 0.10510826150935462),\n",
       " ('TV Shows', 2, 0.04204330460374186),\n",
       " ('Drama', 1, 0.02102165230187093),\n",
       " ('Bossa Nova', None, None),\n",
       " ('Comedy', None, None),\n",
       " ('Opera', None, None),\n",
       " ('Rock And Roll', None, None),\n",
       " ('Sci Fi & Fantasy', None, None),\n",
       " ('Science Fiction', None, None),\n",
       " ('World', None, None)]"
      ]
     },
     "execution_count": 27,
     "metadata": {},
     "output_type": "execute_result"
    }
   ],
   "source": [
    "%%sql\n",
    "WITH track_info AS\n",
    "    (\n",
    "    SELECT\n",
    "        t.name AS track_name,\n",
    "        g.name AS genre_name,\n",
    "        SUM(il.quantity) AS tracks_sold\n",
    "    FROM track t\n",
    "    LEFT JOIN invoice_line il ON il.track_id = t.track_id\n",
    "    LEFT JOIN genre g ON g.genre_id = t.genre_id\n",
    "    GROUP BY t.track_id\n",
    "    ), \n",
    "    \n",
    "    genre_info AS\n",
    "    (\n",
    "    SELECT\n",
    "        t.genre_name,\n",
    "        SUM(t.tracks_sold) as tracks_sold\n",
    "    FROM track_info t\n",
    "    GROUP BY t.genre_name\n",
    "    )\n",
    "    \n",
    "    \n",
    "SELECT\n",
    "    g.genre_name,\n",
    "    g.tracks_sold,\n",
    "    CAST(g.tracks_sold AS FLOAT)\n",
    "         / (SELECT\n",
    "                SUM(g.tracks_sold)\n",
    "            FROM genre_info g) * 100\n",
    "        AS sold_percentage\n",
    "\n",
    "FROM genre_info g\n",
    "ORDER BY sold_percentage DESC;\n",
    "\n",
    "    \n",
    "\n",
    "\n"
   ]
  },
  {
   "cell_type": "markdown",
   "metadata": {},
   "source": [
    "Ordered by sales percentage, the four albums are:  \n",
    "\n",
    "Red Tone : Punk (10.34%)  \n",
    "Meteor and the Girls : Pop (1.32%)  \n",
    "Slim Jim Bits : Blues (2.61%)  \n",
    "Regal : Hiphop (0.69%)  "
   ]
  },
  {
   "cell_type": "markdown",
   "metadata": {},
   "source": [
    "Based off how popular each of the genres are, the 3 albums I would recommend to add to the store are:  \n",
    "Red Tone's  \n",
    "Meteor and the Girls'  \n",
    "Slim Jim Bits'  \n",
    "  \n",
    "This means I would not recommend stocking Regal's album"
   ]
  },
  {
   "cell_type": "markdown",
   "metadata": {},
   "source": [
    "# Analyse Sales Support Agents\n"
   ]
  },
  {
   "cell_type": "markdown",
   "metadata": {},
   "source": [
    "The store has several Sales Support Agents, who assist customers with sales. How do they compare to each other?"
   ]
  },
  {
   "cell_type": "markdown",
   "metadata": {},
   "source": [
    "#### Write a query that finds the total dollar amount of sales assigned to each sales support agent within the company. Add any extra attribute you find are relevant"
   ]
  },
  {
   "cell_type": "code",
   "execution_count": 46,
   "metadata": {
    "collapsed": false
   },
   "outputs": [
    {
     "name": "stdout",
     "output_type": "stream",
     "text": [
      "Done.\n"
     ]
    },
    {
     "data": {
      "text/html": [
       "<table>\n",
       "    <tr>\n",
       "        <th>employee_name</th>\n",
       "        <th>title</th>\n",
       "        <th>supervisor_name</th>\n",
       "    </tr>\n",
       "    <tr>\n",
       "        <td>Andrew Adams</td>\n",
       "        <td>General Manager</td>\n",
       "        <td>None</td>\n",
       "    </tr>\n",
       "    <tr>\n",
       "        <td>Nancy Edwards</td>\n",
       "        <td>Sales Manager</td>\n",
       "        <td>Andrew Adams</td>\n",
       "    </tr>\n",
       "    <tr>\n",
       "        <td>Michael Mitchell</td>\n",
       "        <td>IT Manager</td>\n",
       "        <td>Andrew Adams</td>\n",
       "    </tr>\n",
       "    <tr>\n",
       "        <td>Robert King</td>\n",
       "        <td>IT Staff</td>\n",
       "        <td>Michael Mitchell</td>\n",
       "    </tr>\n",
       "    <tr>\n",
       "        <td>Laura Callahan</td>\n",
       "        <td>IT Staff</td>\n",
       "        <td>Michael Mitchell</td>\n",
       "    </tr>\n",
       "    <tr>\n",
       "        <td>Jane Peacock</td>\n",
       "        <td>Sales Support Agent</td>\n",
       "        <td>Nancy Edwards</td>\n",
       "    </tr>\n",
       "    <tr>\n",
       "        <td>Margaret Park</td>\n",
       "        <td>Sales Support Agent</td>\n",
       "        <td>Nancy Edwards</td>\n",
       "    </tr>\n",
       "    <tr>\n",
       "        <td>Steve Johnson</td>\n",
       "        <td>Sales Support Agent</td>\n",
       "        <td>Nancy Edwards</td>\n",
       "    </tr>\n",
       "</table>"
      ],
      "text/plain": [
       "[('Andrew Adams', 'General Manager', None),\n",
       " ('Nancy Edwards', 'Sales Manager', 'Andrew Adams'),\n",
       " ('Michael Mitchell', 'IT Manager', 'Andrew Adams'),\n",
       " ('Robert King', 'IT Staff', 'Michael Mitchell'),\n",
       " ('Laura Callahan', 'IT Staff', 'Michael Mitchell'),\n",
       " ('Jane Peacock', 'Sales Support Agent', 'Nancy Edwards'),\n",
       " ('Margaret Park', 'Sales Support Agent', 'Nancy Edwards'),\n",
       " ('Steve Johnson', 'Sales Support Agent', 'Nancy Edwards')]"
      ]
     },
     "execution_count": 46,
     "metadata": {},
     "output_type": "execute_result"
    }
   ],
   "source": [
    "%%sql\n",
    "SELECT\n",
    "    e.first_name || ' ' || e.last_name AS employee_name,\n",
    "    e.title,\n",
    "    e2.first_name || ' ' || e2.last_name AS supervisor_name\n",
    "FROM employee e\n",
    "LEFT JOIN employee e2 ON e.reports_to = e2.employee_id\n",
    "ORDER BY supervisor_name"
   ]
  },
  {
   "cell_type": "code",
   "execution_count": 44,
   "metadata": {
    "collapsed": false
   },
   "outputs": [
    {
     "name": "stdout",
     "output_type": "stream",
     "text": [
      "Done.\n"
     ]
    },
    {
     "data": {
      "text/html": [
       "<table>\n",
       "    <tr>\n",
       "        <th>employee_name</th>\n",
       "        <th>total_sales</th>\n",
       "        <th>title</th>\n",
       "        <th>hire_date</th>\n",
       "        <th>supervisor_name</th>\n",
       "    </tr>\n",
       "    <tr>\n",
       "        <td>Jane Peacock</td>\n",
       "        <td>1731.51</td>\n",
       "        <td>Sales Support Agent</td>\n",
       "        <td>2017-04-01 00:00:00</td>\n",
       "        <td>Nancy Edwards</td>\n",
       "    </tr>\n",
       "    <tr>\n",
       "        <td>Margaret Park</td>\n",
       "        <td>1584.0</td>\n",
       "        <td>Sales Support Agent</td>\n",
       "        <td>2017-05-03 00:00:00</td>\n",
       "        <td>Nancy Edwards</td>\n",
       "    </tr>\n",
       "    <tr>\n",
       "        <td>Steve Johnson</td>\n",
       "        <td>1393.92</td>\n",
       "        <td>Sales Support Agent</td>\n",
       "        <td>2017-10-17 00:00:00</td>\n",
       "        <td>Nancy Edwards</td>\n",
       "    </tr>\n",
       "</table>"
      ],
      "text/plain": [
       "[('Jane Peacock', 1731.51, 'Sales Support Agent', '2017-04-01 00:00:00', 'Nancy Edwards'),\n",
       " ('Margaret Park', 1584.0, 'Sales Support Agent', '2017-05-03 00:00:00', 'Nancy Edwards'),\n",
       " ('Steve Johnson', 1393.92, 'Sales Support Agent', '2017-10-17 00:00:00', 'Nancy Edwards')]"
      ]
     },
     "execution_count": 44,
     "metadata": {},
     "output_type": "execute_result"
    }
   ],
   "source": [
    "%%sql\n",
    "WITH customer_info AS\n",
    "    (SELECT\n",
    "        c.customer_id,\n",
    "        c.support_rep_id,\n",
    "        SUM(i.total) AS total_purchases\n",
    "    FROM invoice i\n",
    "    INNER JOIN customer c ON c.customer_id = i.customer_id\n",
    "    GROUP BY c.customer_id\n",
    "    ),\n",
    "    \n",
    "    employee_info AS\n",
    "    (SELECT\n",
    "        e.employee_id,\n",
    "        SUM(c.total_purchases) AS total_sales\n",
    "     FROM employee e\n",
    "     LEFT JOIN customer_info c ON c.support_rep_id = e.employee_id\n",
    "     GROUP BY e.employee_id\n",
    "    )\n",
    "    \n",
    "SELECT \n",
    "    e.first_name || ' ' || e.last_name AS employee_name,\n",
    "    ei.total_sales,\n",
    "    e.title,\n",
    "    e.hire_date,\n",
    "    e2.first_name || ' ' || e2.last_name AS supervisor_name\n",
    "FROM employee e\n",
    "LEFT JOIN employee_info ei ON ei.employee_id = e.employee_id\n",
    "LEFT JOIN employee e2 ON e.reports_to = e2.employee_id\n",
    "WHERE e.title = 'Sales Support Agent'\n",
    "ORDER BY e.hire_date\n",
    "        \n"
   ]
  },
  {
   "cell_type": "markdown",
   "metadata": {},
   "source": [
    "There are 3 sales support agents, out of 8 employees. They all work under Nancy Edwards, who is the Sales Manager.\n",
    "\n",
    "The obvious conclusion drawn from the data is that the longer a Sales Support Agent has been at their current position, the better they are at their job, and the more sales they make."
   ]
  },
  {
   "cell_type": "markdown",
   "metadata": {},
   "source": [
    "# Analyse by Country"
   ]
  },
  {
   "cell_type": "markdown",
   "metadata": {},
   "source": [
    "Find, per country:  \n",
    "  \n",
    "    Total number of customers  \n",
    "    Total value of sales  \n",
    "    Average value of sales per customer\n",
    "    Average order value\n",
    "  \n",
    "Countries with only one customer should be collected in an 'Other' group, sorted to the bottom"
   ]
  },
  {
   "cell_type": "code",
   "execution_count": 119,
   "metadata": {
    "collapsed": false
   },
   "outputs": [
    {
     "name": "stdout",
     "output_type": "stream",
     "text": [
      "Done.\n"
     ]
    },
    {
     "data": {
      "text/html": [
       "<table>\n",
       "    <tr>\n",
       "        <th>country</th>\n",
       "        <th>number_of_customers</th>\n",
       "        <th>total_sales</th>\n",
       "        <th>sales_per_customer</th>\n",
       "        <th>avg_order_value</th>\n",
       "    </tr>\n",
       "    <tr>\n",
       "        <td>USA</td>\n",
       "        <td>13</td>\n",
       "        <td>1040.49</td>\n",
       "        <td>80.03769230769231</td>\n",
       "        <td>7.942671755725191</td>\n",
       "    </tr>\n",
       "    <tr>\n",
       "        <td>Canada</td>\n",
       "        <td>8</td>\n",
       "        <td>535.59</td>\n",
       "        <td>66.94875</td>\n",
       "        <td>7.047236842105264</td>\n",
       "    </tr>\n",
       "    <tr>\n",
       "        <td>Brazil</td>\n",
       "        <td>5</td>\n",
       "        <td>427.67999999999995</td>\n",
       "        <td>85.53599999999999</td>\n",
       "        <td>7.011147540983606</td>\n",
       "    </tr>\n",
       "    <tr>\n",
       "        <td>France</td>\n",
       "        <td>5</td>\n",
       "        <td>389.07</td>\n",
       "        <td>77.814</td>\n",
       "        <td>7.7814</td>\n",
       "    </tr>\n",
       "    <tr>\n",
       "        <td>Germany</td>\n",
       "        <td>4</td>\n",
       "        <td>334.62</td>\n",
       "        <td>83.655</td>\n",
       "        <td>8.161463414634147</td>\n",
       "    </tr>\n",
       "    <tr>\n",
       "        <td>Czech Republic</td>\n",
       "        <td>2</td>\n",
       "        <td>273.24</td>\n",
       "        <td>136.62</td>\n",
       "        <td>9.108</td>\n",
       "    </tr>\n",
       "    <tr>\n",
       "        <td>United Kingdom</td>\n",
       "        <td>3</td>\n",
       "        <td>245.51999999999998</td>\n",
       "        <td>81.83999999999999</td>\n",
       "        <td>8.768571428571429</td>\n",
       "    </tr>\n",
       "    <tr>\n",
       "        <td>Portugal</td>\n",
       "        <td>2</td>\n",
       "        <td>185.13</td>\n",
       "        <td>92.565</td>\n",
       "        <td>6.3837931034482756</td>\n",
       "    </tr>\n",
       "    <tr>\n",
       "        <td>India</td>\n",
       "        <td>2</td>\n",
       "        <td>183.14999999999998</td>\n",
       "        <td>91.57499999999999</td>\n",
       "        <td>8.72142857142857</td>\n",
       "    </tr>\n",
       "    <tr>\n",
       "        <td>Other</td>\n",
       "        <td>15</td>\n",
       "        <td>1094.94</td>\n",
       "        <td>72.99600000000001</td>\n",
       "        <td>7.448571428571429</td>\n",
       "    </tr>\n",
       "</table>"
      ],
      "text/plain": [
       "[('USA', 13, 1040.49, 80.03769230769231, 7.942671755725191),\n",
       " ('Canada', 8, 535.59, 66.94875, 7.047236842105264),\n",
       " ('Brazil', 5, 427.67999999999995, 85.53599999999999, 7.011147540983606),\n",
       " ('France', 5, 389.07, 77.814, 7.7814),\n",
       " ('Germany', 4, 334.62, 83.655, 8.161463414634147),\n",
       " ('Czech Republic', 2, 273.24, 136.62, 9.108),\n",
       " ('United Kingdom', 3, 245.51999999999998, 81.83999999999999, 8.768571428571429),\n",
       " ('Portugal', 2, 185.13, 92.565, 6.3837931034482756),\n",
       " ('India', 2, 183.14999999999998, 91.57499999999999, 8.72142857142857),\n",
       " ('Other', 15, 1094.94, 72.99600000000001, 7.448571428571429)]"
      ]
     },
     "execution_count": 119,
     "metadata": {},
     "output_type": "execute_result"
    }
   ],
   "source": [
    "%%sql\n",
    "WITH customer_info AS\n",
    "    (SELECT\n",
    "        c.customer_id,\n",
    "        CASE\n",
    "             WHEN(SELECT\n",
    "                     COUNT(customer_id)\n",
    "                 FROM customer\n",
    "                 WHERE country = c.country) = 1 THEN 'Other'\n",
    "             ELSE c.country\n",
    "             END AS country,\n",
    "        SUM(i.total) AS total_purchases,\n",
    "        COUNT(i.total) AS number_of_purchases\n",
    "    FROM invoice i\n",
    "    INNER JOIN customer c ON c.customer_id = i.customer_id\n",
    "    GROUP BY c.customer_id\n",
    "    ),\n",
    "    \n",
    "    country_info AS\n",
    "    (SELECT\n",
    "         c.country,\n",
    "         SUM(c.total_purchases) AS total_sales,\n",
    "         SUM(c.number_of_purchases) AS total_purchases,\n",
    "         COUNT(c.total_purchases) AS number_of_customers,\n",
    "         CASE\n",
    "            WHEN c.country = 'Other' THEN 1\n",
    "            ELSE 0\n",
    "         END AS other\n",
    "     FROM customer_info c\n",
    "     GROUP BY country\n",
    "    )\n",
    "    \n",
    "SELECT \n",
    "    ci.country,\n",
    "    ci.number_of_customers,\n",
    "    ci.total_sales,\n",
    "    CAST(ci.total_sales AS FLOAT) / ci.number_of_customers AS sales_per_customer,\n",
    "    CAST(ci.total_sales AS FLOAT) / ci.total_purchases AS avg_order_value\n",
    "FROM country_info ci\n",
    "ORDER BY ci.other, total_sales DESC"
   ]
  },
  {
   "cell_type": "markdown",
   "metadata": {},
   "source": [
    "# Find the amount of purchases that our album purchases vs individual track purchases"
   ]
  },
  {
   "cell_type": "markdown",
   "metadata": {},
   "source": [
    "Goal: \n",
    "  \n",
    "    From each invoice, compare all the tracks bought to the album of the    first  track. If they match, it is an album purchase.\n",
    "    \n",
    "  "
   ]
  },
  {
   "cell_type": "code",
   "execution_count": 227,
   "metadata": {
    "collapsed": false
   },
   "outputs": [
    {
     "name": "stdout",
     "output_type": "stream",
     "text": [
      "Done.\n"
     ]
    },
    {
     "data": {
      "text/html": [
       "<table>\n",
       "    <tr>\n",
       "        <th>album_purchase</th>\n",
       "        <th>number_of_invoices</th>\n",
       "        <th>percentage_of_invoices</th>\n",
       "    </tr>\n",
       "    <tr>\n",
       "        <td>no</td>\n",
       "        <td>500</td>\n",
       "        <td>81.43322475570032</td>\n",
       "    </tr>\n",
       "    <tr>\n",
       "        <td>yes</td>\n",
       "        <td>114</td>\n",
       "        <td>18.566775244299674</td>\n",
       "    </tr>\n",
       "</table>"
      ],
      "text/plain": [
       "[('no', 500, 81.43322475570032), ('yes', 114, 18.566775244299674)]"
      ]
     },
     "execution_count": 227,
     "metadata": {},
     "output_type": "execute_result"
    }
   ],
   "source": [
    "%%sql\n",
    "\n",
    "WITH invoice_track AS\n",
    "    (\n",
    "    SELECT\n",
    "        il.invoice_id,\n",
    "        MIN(il.track_id) AS track_id\n",
    "        \n",
    "        FROM invoice_line il\n",
    "        GROUP BY il.invoice_id\n",
    "    )\n",
    "\n",
    "SELECT\n",
    "    album_purchase,\n",
    "    COUNT(invoice_id) AS number_of_invoices,\n",
    "    CAST(COUNT(invoice_id) AS FLOAT) / (\n",
    "                        SELECT COUNT(*) FROM INVOICE\n",
    "                        ) * 100 AS percentage_of_invoices\n",
    "FROM\n",
    "    (SELECT\n",
    "        i.invoice_id,\n",
    "        CASE\n",
    "            WHEN\n",
    "                 (\n",
    "                 \n",
    "                /*Get all the tracks*/\n",
    "                SELECT t1.track_id FROM track t1\n",
    "                /*Where the album is*/\n",
    "                WHERE t1.album_id = (\n",
    "                                    /*the album that*/\n",
    "                                    SELECT t2.album_id from track t2\n",
    "                                    /*the first track of the album belongs to*/\n",
    "                                    WHERE t2.track_id = (\n",
    "                                                        SELECT track_id FROM invoice_track\n",
    "                                                        WHERE i.invoice_id = invoice_id\n",
    "                                                        )\n",
    "                                    )\n",
    "                EXCEPT\n",
    "                \n",
    "                    /*Get all the tracks*/\n",
    "                    SELECT il.track_id FROM invoice_line il\n",
    "                    /*For this invoice*/\n",
    "                    WHERE il.invoice_id = i.invoice_id\n",
    "                \n",
    "                ) IS NULL\n",
    "     \n",
    "                 AND\n",
    "                 \n",
    "                (\n",
    "                /*Get all the tracks*/\n",
    "                SELECT il.track_id FROM invoice_line il\n",
    "                /*For this invoice*/\n",
    "                WHERE il.invoice_id = i.invoice_id\n",
    "                 \n",
    "                 EXCEPT\n",
    "                \n",
    "                 /*Get all the tracks*/\n",
    "                 SELECT t1.track_id FROM track t1\n",
    "                 \n",
    "                 /*Where the album is*/\n",
    "                 WHERE t1.album_id = (\n",
    "                     \n",
    "                                    /*the album that*/\n",
    "                                    SELECT t2.album_id from track t2\n",
    "                     \n",
    "                                    /*the first track of the invoice belongs to*/\n",
    "                                    WHERE t2.track_id = (\n",
    "                                                        SELECT track_id FROM invoice_track\n",
    "                                                        WHERE i.invoice_id = invoice_id\n",
    "                                                        )\n",
    "                                    )\n",
    "                ) IS NULL\n",
    "     \n",
    "            THEN 'yes'\n",
    "            ELSE 'no'\n",
    "            END AS album_purchase\n",
    "    \n",
    "    FROM invoice i\n",
    "    )\n",
    "GROUP BY album_purchase"
   ]
  },
  {
   "cell_type": "markdown",
   "metadata": {},
   "source": [
    "The store should continue to buy whole albums, as whole albums represent nearly a fifth of their sales"
   ]
  }
 ],
 "metadata": {
  "kernelspec": {
   "display_name": "Python 3",
   "language": "python",
   "name": "python3"
  },
  "language_info": {
   "codemirror_mode": {
    "name": "ipython",
    "version": 3
   },
   "file_extension": ".py",
   "mimetype": "text/x-python",
   "name": "python",
   "nbconvert_exporter": "python",
   "pygments_lexer": "ipython3",
   "version": "3.4.3"
  }
 },
 "nbformat": 4,
 "nbformat_minor": 2
}
